{
 "cells": [
  {
   "cell_type": "markdown",
   "metadata": {},
   "source": [
    "# Object-Oriented-Programming (OOP)"
   ]
  },
  {
   "cell_type": "markdown",
   "metadata": {},
   "source": [
    "## Tasks Today:\n",
    "\n",
    "   \n",
    "\n",
    "1) <b>Creating a Class (Initializing/Declaring)</b> <br>\n",
    "2) <b>Using a Class (Instantiating)</b> <br>\n",
    " &nbsp;&nbsp;&nbsp;&nbsp; a) Creating One Instance <br>\n",
    " &nbsp;&nbsp;&nbsp;&nbsp; b) Creating Multiple Instances <br>\n",
    " &nbsp;&nbsp;&nbsp;&nbsp; c) In-Class Exercise #1 - Create a Class 'Car' and instantiate three different makes of cars <br>\n",
    "3) <b>The \\__init\\__() Method</b> <br>\n",
    " &nbsp;&nbsp;&nbsp;&nbsp; a) The 'self' Attribute <br>\n",
    "4) <b>Class Attributes</b> <br>\n",
    " &nbsp;&nbsp;&nbsp;&nbsp; a) Initializing Attributes <br>\n",
    " &nbsp;&nbsp;&nbsp;&nbsp; b) Setting an Attribute Outside of the \\__init\\__() Method <br>\n",
    " &nbsp;&nbsp;&nbsp;&nbsp; c) Setting Defaults for Attributes <br>\n",
    " &nbsp;&nbsp;&nbsp;&nbsp; d) Accessing Class Attributes <br>\n",
    " &nbsp;&nbsp;&nbsp;&nbsp; e) Changing Class Attributes <br>\n",
    " &nbsp;&nbsp;&nbsp;&nbsp; f) In-Class Exercise #2 - Add a color and wheels attribute to your 'Car' class <br>\n",
    "5) <b>Class Methods</b> <br>\n",
    " &nbsp;&nbsp;&nbsp;&nbsp; a) Creating <br>\n",
    " &nbsp;&nbsp;&nbsp;&nbsp; b) Calling <br>\n",
    " &nbsp;&nbsp;&nbsp;&nbsp; c) Modifying an Attribute's Value Through a Method <br>\n",
    " &nbsp;&nbsp;&nbsp;&nbsp; d) Incrementing an Attribute's Value Through a Method <br>\n",
    " &nbsp;&nbsp;&nbsp;&nbsp; e) In-Class Exercise #3 - Add a method that prints the cars color and wheel number, then call them <br>\n",
    "6) <b>Inheritance</b> <br>\n",
    " &nbsp;&nbsp;&nbsp;&nbsp; a) Syntax for Inheriting from a Parent Class <br>\n",
    " &nbsp;&nbsp;&nbsp;&nbsp; b) The \\__init\\__() Method for a Child Class (super()) <br>\n",
    " &nbsp;&nbsp;&nbsp;&nbsp; c) Defining Attributes and Methods for the Child Class <br>\n",
    " &nbsp;&nbsp;&nbsp;&nbsp; d) Method Overriding <br>\n",
    " &nbsp;&nbsp;&nbsp;&nbsp; e) In-Class Exercise #4 - Create a class 'Ford' that inherits from 'Car' class and initialize it as a Blue Ford Explorer with 4 wheels using the super() method <br>\n",
    "7) <b>Classes as Attributes</b> <br>\n",
    "8) <b>Exercises</b> <br>\n",
    " &nbsp;&nbsp;&nbsp;&nbsp; a) Exercise #1 - Turn the shopping cart program from yesterday into an object-oriented program <br>"
   ]
  },
  {
   "cell_type": "markdown",
   "metadata": {},
   "source": [
    "## Creating a Class (Initializing/Declaring)\n",
    "<p>When creating a class, function, or even a variable you are initializing that object. Initializing and Declaring occur at the same time in Python, whereas in lower level languages you have to declare an object before initializing it. This is the first step in the process of using a class.</p>"
   ]
  },
  {
   "cell_type": "code",
   "execution_count": 2,
   "metadata": {},
   "outputs": [],
   "source": [
    "class Car():\n",
    "    wheels = 4\n",
    "    color = 'blue'"
   ]
  },
  {
   "cell_type": "markdown",
   "metadata": {},
   "source": [
    "## Using a Class (Instantiating)\n",
    "<p>The process of creating a class is called <i>Instantiating</i>. Each time you create a variable of that type of class, it is referred to as an <i>Instance</i> of that class. This is the second step in the process of using a class.</p>"
   ]
  },
  {
   "cell_type": "markdown",
   "metadata": {},
   "source": [
    "##### Creating One Instance"
   ]
  },
  {
   "cell_type": "code",
   "execution_count": 3,
   "metadata": {},
   "outputs": [
    {
     "name": "stdout",
     "output_type": "stream",
     "text": [
      "4\n"
     ]
    }
   ],
   "source": [
    "ford = Car()\n",
    "print(ford.wheels)"
   ]
  },
  {
   "cell_type": "markdown",
   "metadata": {},
   "source": [
    "##### Creating Multiple Instances"
   ]
  },
  {
   "cell_type": "code",
   "execution_count": 7,
   "metadata": {},
   "outputs": [
    {
     "name": "stdout",
     "output_type": "stream",
     "text": [
      "<class 'str'>\n"
     ]
    },
    {
     "ename": "AttributeError",
     "evalue": "'Car' object has no attribute 'bumper'",
     "output_type": "error",
     "traceback": [
      "\u001b[0;31m---------------------------------------------------------------------------\u001b[0m",
      "\u001b[0;31mAttributeError\u001b[0m                            Traceback (most recent call last)",
      "Cell \u001b[0;32mIn[7], line 6\u001b[0m\n\u001b[1;32m      3\u001b[0m porsche \u001b[38;5;241m=\u001b[39m Car()\n\u001b[1;32m      5\u001b[0m \u001b[38;5;28mprint\u001b[39m(\u001b[38;5;28mtype\u001b[39m(porsche\u001b[38;5;241m.\u001b[39mcolor))\n\u001b[0;32m----> 6\u001b[0m \u001b[38;5;28mprint\u001b[39m((porsche\u001b[38;5;241m.\u001b[39mbumper))\n",
      "\u001b[0;31mAttributeError\u001b[0m: 'Car' object has no attribute 'bumper'"
     ]
    }
   ],
   "source": [
    "chevy = Car()\n",
    "honda = Car()\n",
    "porsche = Car()\n",
    "\n",
    "print(type(porsche.color)) #have the color: \"blue\"\n",
    "print((porsche.bumper))\n"
   ]
  },
  {
   "cell_type": "markdown",
   "metadata": {},
   "source": [
    "##### In-Class Exercise #1 - Create a Class 'Car' and Instantiate three different makes of cars"
   ]
  },
  {
   "cell_type": "code",
   "execution_count": 11,
   "metadata": {},
   "outputs": [
    {
     "name": "stdout",
     "output_type": "stream",
     "text": [
      "SUV\n"
     ]
    }
   ],
   "source": [
    "class Car():\n",
    "    car_type = 'SUV'\n",
    "    year = '2023'\n",
    "\n",
    "CX_50 = Car()\n",
    "SQ7 = Car()\n",
    "CRV = Car()\n",
    "\n",
    "print((CRV.car_type))"
   ]
  },
  {
   "cell_type": "markdown",
   "metadata": {},
   "source": [
    "## The \\__init\\__() Method <br>\n",
    "<p>This method is used in almost every created class, and called only once upon the creation of the class instance. This method will initialize all variables needed for the object.</p>"
   ]
  },
  {
   "cell_type": "code",
   "execution_count": 14,
   "metadata": {},
   "outputs": [
    {
     "name": "stdout",
     "output_type": "stream",
     "text": [
      "4\n",
      "6\n"
     ]
    }
   ],
   "source": [
    "class Car():\n",
    "    engine = '4.7L' #constant attribute\n",
    "    \n",
    "    def __init__(self, wheels, color):\n",
    "        self.wheels = wheels\n",
    "        self.color = color\n",
    "        \n",
    "ford = Car(4, 'red')\n",
    "chevy = Car(6,'black')\n",
    "\n",
    "print(ford.wheels)\n",
    "print(chevy.wheels)"
   ]
  },
  {
   "cell_type": "markdown",
   "metadata": {},
   "source": [
    "##### The 'self' Attribute <br>\n",
    "<p>This attribute is required to keep track of specific instance's attributes. Without the self attribute, the program would not know how to reference or keep track of an instance's attributes.</p>"
   ]
  },
  {
   "cell_type": "code",
   "execution_count": null,
   "metadata": {},
   "outputs": [],
   "source": [
    "# see above"
   ]
  },
  {
   "cell_type": "markdown",
   "metadata": {},
   "source": [
    "## Class Attributes <br>\n",
    "<p>While variables are inside of a class, they are referred to as attributes and not variables. When someone says 'attribute' you know they're speaking about a class. Attributes can be initialized through the init method, or outside of it.</p>"
   ]
  },
  {
   "cell_type": "markdown",
   "metadata": {},
   "source": [
    "##### Initializing Attributes"
   ]
  },
  {
   "cell_type": "code",
   "execution_count": 34,
   "metadata": {},
   "outputs": [],
   "source": [
    "# see above\n",
    "\n",
    "class Toy():\n",
    "    kind = 'car'\n",
    "    \n",
    "    def __init__(self, rooftop, horn, wheels = 4):\n",
    "        self.rooftop = rooftop\n",
    "        self.horn = horn\n",
    "        self.wheels = wheels\n",
    "        \n",
    "tonka_truck = Toy(1,1)\n",
    "hotwheels_car = Toy(2,3,8)"
   ]
  },
  {
   "cell_type": "markdown",
   "metadata": {},
   "source": [
    "##### Accessing Class Attributes"
   ]
  },
  {
   "cell_type": "code",
   "execution_count": 36,
   "metadata": {
    "scrolled": true
   },
   "outputs": [
    {
     "name": "stdout",
     "output_type": "stream",
     "text": [
      "1\n",
      "8\n"
     ]
    }
   ],
   "source": [
    "# See Above\n",
    "print(tonka_truck.horn)\n",
    "print(hotwheels_car.wheels)"
   ]
  },
  {
   "cell_type": "markdown",
   "metadata": {},
   "source": [
    "##### Setting Defaults for Attributes"
   ]
  },
  {
   "cell_type": "code",
   "execution_count": 32,
   "metadata": {},
   "outputs": [
    {
     "name": "stdout",
     "output_type": "stream",
     "text": [
      "Blue\n",
      "4\n"
     ]
    }
   ],
   "source": [
    "class Car(): \n",
    "    engine = '4.7L'\n",
    "    \n",
    "    def __init__(self, wheels):\n",
    "        self.wheels = wheels\n",
    "        self.color = 'Blue' #CANNOT OVERWRITE\n",
    "        \n",
    "honda = Car(4)\n",
    "print(honda.color)\n",
    "print(honda.wheels)\n",
    "honda.engine = '5.4L'\n"
   ]
  },
  {
   "cell_type": "markdown",
   "metadata": {},
   "source": [
    "##### Changing Class Attributes <br>\n",
    "<p>Keep in mind there are global class attributes and then there are attributes only available to each class instance which won't effect other classes.</p>"
   ]
  },
  {
   "cell_type": "code",
   "execution_count": null,
   "metadata": {},
   "outputs": [],
   "source": [
    "#see above"
   ]
  },
  {
   "cell_type": "code",
   "execution_count": null,
   "metadata": {},
   "outputs": [],
   "source": []
  },
  {
   "cell_type": "markdown",
   "metadata": {},
   "source": [
    "##### In-Class Exercise #2 - Add a doors and seats attribute to your 'Car' class then print out two different instances with different doors and seats"
   ]
  },
  {
   "cell_type": "code",
   "execution_count": 45,
   "metadata": {},
   "outputs": [
    {
     "name": "stdout",
     "output_type": "stream",
     "text": [
      "4\n",
      "7\n",
      "2023\n",
      "SUV\n"
     ]
    }
   ],
   "source": [
    "class Car():\n",
    "    year = 2023\n",
    "    type_car = 'SUV'\n",
    "    \n",
    "    def __init__(self, door, seat):\n",
    "        self.door = door\n",
    "        self.seat = seat\n",
    "\n",
    "Q7 = Car(4, 7)\n",
    "print(Q7.door)\n",
    "print(Q7.seat)\n",
    "print(Q7.year)\n",
    "print(Q7.type_car)"
   ]
  },
  {
   "cell_type": "markdown",
   "metadata": {},
   "source": [
    "## Class Methods <br>\n",
    "<p>While inside of a class, functions are referred to as 'methods'. If you hear someone mention methods, they're speaking about classes. Methods are essentially functions, but only callable on the instances of a class.</p>"
   ]
  },
  {
   "cell_type": "markdown",
   "metadata": {},
   "source": [
    "##### Creating"
   ]
  },
  {
   "cell_type": "code",
   "execution_count": 86,
   "metadata": {},
   "outputs": [],
   "source": [
    "class ShoppingBag():\n",
    "    '''\n",
    "    The ShoppingBag class will have handles, capacity, and items to place inside:\n",
    "    \n",
    "    Attributes for the class:\n",
    "    - handles: expecyed to be an integer\n",
    "    - items: expected to be a list\n",
    "    - capacity: expected to be an integer\n",
    "    '''\n",
    "    \n",
    "    def __init__(self, handles, items = [], capacity = 10):\n",
    "        self.handles = handles\n",
    "        self.items = items\n",
    "        self.capacity = capacity\n",
    "        \n",
    "    def showShoppingBag(self):\n",
    "        if len(self.items) == 0:\n",
    "            print(\"You have no item. \")\n",
    "        else:\n",
    "            print(\"You have items in your bag!\") \n",
    "            for item in self.items:\n",
    "                print(item)\n",
    "            \n",
    "    def showCapacity(self):\n",
    "        print(f\"Your remaining capacity is {self.capacity - len(self.items)}\") #TO DO: subtract number of items from capacity\n",
    "        \n",
    "    def addToShoppingBag(self): #IF CAPACITY IS FULL, REJECT NEW ITEM\n",
    "        if len(self.items) == self.capacity:\n",
    "            print(\"You have no room! \")\n",
    "        else:\n",
    "            product = input(\"What would you like to add? \")\n",
    "            self.items.append(product)\n",
    "    \n",
    "    def showHandles(self):\n",
    "        print(f\"You have {self.handles} handles on your bag.\")"
   ]
  },
  {
   "cell_type": "markdown",
   "metadata": {},
   "source": [
    "##### Calling"
   ]
  },
  {
   "cell_type": "code",
   "execution_count": 88,
   "metadata": {},
   "outputs": [
    {
     "name": "stdout",
     "output_type": "stream",
     "text": [
      "What would you like to do?\n",
      "\n",
      "You may:\n",
      "- Add\n",
      "- Show\n",
      "- Quit\n",
      "add\n",
      "What would you like to add? banana\n",
      "What would you like to do?\n",
      "\n",
      "You may:\n",
      "- Add\n",
      "- Show\n",
      "- Quit\n",
      "add\n",
      "What would you like to add? egg\n",
      "What would you like to do?\n",
      "\n",
      "You may:\n",
      "- Add\n",
      "- Show\n",
      "- Quit\n",
      "show\n",
      "What would you like to see?  \n",
      "- Capacity\n",
      "- Handles\n",
      "- Shopping Bag\n",
      "shopping bag\n",
      "You have items in your bag!\n",
      "banana\n",
      "banana\n",
      "egg\n",
      "What would you like to do?\n",
      "\n",
      "You may:\n",
      "- Add\n",
      "- Show\n",
      "- Quit\n",
      "quit\n",
      "You have items in your bag!\n",
      "banana\n",
      "banana\n",
      "egg\n",
      "Thank you for shopping!\n"
     ]
    }
   ],
   "source": [
    "# See Above\n",
    "\n",
    "wholeFoodBag = ShoppingBag(2)\n",
    "\n",
    "def run():\n",
    "    while True:\n",
    "        response = input(\"What would you like to do?\\n\\nYou may:\\n- Add\\n- Show\\n- Quit\\n\")\n",
    "\n",
    "        if response.lower() == 'quit':\n",
    "            wholeFoodBag.showShoppingBag()\n",
    "            print(\"Thank you for shopping!\")\n",
    "            break \n",
    "\n",
    "        elif response.lower() == 'add':\n",
    "            wholeFoodBag.addToShoppingBag()\n",
    "\n",
    "        elif response.lower() == 'show':\n",
    "            showChoice = input(\"What would you like to see?  \\n- Capacity\\n- Handles\\n- Shopping Bag\\n\")\n",
    "            if showChoice.lower() == 'capacity':\n",
    "                wholeFoodBag.showCapacity()\n",
    "            elif showChoice.lower() == 'handles':\n",
    "                wholeFoodBag.showHandles()\n",
    "            else:\n",
    "                wholeFoodBag.showShoppingBag()\n",
    "        else:\n",
    "            print(\"That is not a valid option. Please enter add, show, or quit. \")\n",
    "        \n",
    "run()"
   ]
  },
  {
   "cell_type": "markdown",
   "metadata": {},
   "source": [
    "##### Modifying an Attribute's Value Through a Method"
   ]
  },
  {
   "cell_type": "code",
   "execution_count": null,
   "metadata": {},
   "outputs": [],
   "source": []
  },
  {
   "cell_type": "markdown",
   "metadata": {},
   "source": [
    "##### Incrementing an Attribute's Value Through a Method"
   ]
  },
  {
   "cell_type": "code",
   "execution_count": null,
   "metadata": {},
   "outputs": [],
   "source": []
  },
  {
   "cell_type": "markdown",
   "metadata": {},
   "source": [
    "##### In-Class Exercise #3 - Add a method that takes in three parameters of year, doors and seats and prints out a formatted print statement with make, model, year, seats, and doors"
   ]
  },
  {
   "cell_type": "code",
   "execution_count": 79,
   "metadata": {},
   "outputs": [
    {
     "name": "stdout",
     "output_type": "stream",
     "text": [
      "The car is from 2023 and is a Toyota rav4 and has 4 doors and 5 seats\n"
     ]
    }
   ],
   "source": [
    "# Create class with 2 paramters inside of the __init__ which are make and model\n",
    "\n",
    "# Inside of the Car class create a method that has 4 parameter in total (self,year,door,seats)\n",
    "\n",
    "# Output: This car is from 2019 and is a Ford Expolorer and has 4 doors and 5 seats\n",
    "\n",
    "\n",
    "class Car():\n",
    "    make = 'Toyota'\n",
    "    model = 'rav4'\n",
    "    \n",
    "    def __init__(self, year, door, seats):\n",
    "        self.year = year\n",
    "        self.door = door\n",
    "        self.seats = seats\n",
    "        \n",
    "my_car = Car(2023, 4, 5)\n",
    "print(\"The car is from \" + str(my_car.year) + \" and is a \" + my_car.make + \" \" + my_car.model + \" and has \" + str(my_car.door) + \" doors and \" + str(my_car.seats) + \" seats\")"
   ]
  },
  {
   "cell_type": "markdown",
   "metadata": {},
   "source": [
    "## Inheritance <br>\n",
    "<p>You can create a child-parent relationship between two classes by using inheritance. What this allows you to do is have overriding methods, but also inherit traits from the parent class. Think of it as an actual parent and child, the child will inherit the parent's genes, as will the classes in OOP</p>"
   ]
  },
  {
   "cell_type": "markdown",
   "metadata": {},
   "source": [
    "##### Syntax for Inheriting from a Parent Class"
   ]
  },
  {
   "cell_type": "code",
   "execution_count": null,
   "metadata": {},
   "outputs": [],
   "source": []
  },
  {
   "cell_type": "markdown",
   "metadata": {},
   "source": [
    "##### The \\__init\\__() Method for a Child Class - super()"
   ]
  },
  {
   "cell_type": "code",
   "execution_count": null,
   "metadata": {
    "scrolled": true
   },
   "outputs": [],
   "source": []
  },
  {
   "cell_type": "markdown",
   "metadata": {},
   "source": [
    "##### Defining Attributes and Methods for the Child Class"
   ]
  },
  {
   "cell_type": "code",
   "execution_count": null,
   "metadata": {},
   "outputs": [],
   "source": [
    "# See Above"
   ]
  },
  {
   "cell_type": "markdown",
   "metadata": {},
   "source": [
    "##### Method Overriding"
   ]
  },
  {
   "cell_type": "code",
   "execution_count": null,
   "metadata": {},
   "outputs": [],
   "source": [
    "# See Above"
   ]
  },
  {
   "cell_type": "markdown",
   "metadata": {},
   "source": [
    "## Classes as Attributes <br>\n",
    "<p>Classes can also be used as attributes within another class. This is useful in situations where you need to keep variables locally stored, instead of globally stored.</p>"
   ]
  },
  {
   "cell_type": "code",
   "execution_count": null,
   "metadata": {},
   "outputs": [],
   "source": []
  },
  {
   "cell_type": "markdown",
   "metadata": {},
   "source": [
    "# Exercises"
   ]
  },
  {
   "cell_type": "markdown",
   "metadata": {},
   "source": [
    "### Exercise 1 - Turn the shopping cart program from yesterday into an object-oriented program\n",
    "\n",
    "The comments in the cell below are there as a guide for thinking about the problem. However, if you feel a different way is best for you and your own thought process, please do what feels best for you by all means."
   ]
  },
  {
   "cell_type": "code",
   "execution_count": 11,
   "metadata": {},
   "outputs": [
    {
     "name": "stdout",
     "output_type": "stream",
     "text": [
      "What would you like to add, remove, show or quit?add\n",
      "Which one would you like to add? (cart/ saved list) cart\n",
      "What would you like to add? pen\n",
      "What would you like to add, remove, show or quit?add\n",
      "Which one would you like to add? (cart/ saved list) cart\n",
      "What would you like to add? mug\n",
      "What would you like to add, remove, show or quit?add\n",
      "Which one would you like to add? (cart/ saved list) saved list\n",
      "What would you like to add into the saved list? gum\n",
      "gum has been added to the saved list successfully. \n",
      "What would you like to add, remove, show or quit?show\n",
      "What would you like to see? \n",
      "- Items\n",
      "- Saved List\n",
      "- Order Total\n",
      "items\n",
      "---Shopping Cart---\n",
      "pen\n",
      "mug\n",
      "What would you like to add, remove, show or quit?remove\n",
      "---Shopping Cart----\n",
      " ['pen', 'mug']\n",
      "Which item would you like to delete? mug\n",
      "What would you like to add, remove, show or quit?add\n",
      "Which one would you like to add? (cart/ saved list) saved list\n",
      "What would you like to add into the saved list? banana\n",
      "banana has been added to the saved list successfully. \n",
      "What would you like to add, remove, show or quit?show\n",
      "What would you like to see? \n",
      "- Items\n",
      "- Saved List\n",
      "- Order Total\n",
      "saved list\n",
      "---Saved List---\n",
      "gum\n",
      "banana\n",
      "Would you like to add an item to your cart from the saved list today?(yes/no) yes\n",
      "Which item would you like to add to your cart? gum\n",
      "gum is in your cart now! \n",
      "What would you like to add, remove, show or quit?show\n",
      "What would you like to see? \n",
      "- Items\n",
      "- Saved List\n",
      "- Order Total\n",
      "order total\n",
      "---Shopping Cart---\n",
      "pen\n",
      "gum\n",
      "Thank you for shopping in Dollar Store! Your total is $2. \n",
      "What would you like to add, remove, show or quit?quit\n",
      "---Shopping Cart---\n",
      "pen\n",
      "gum\n",
      "You left something in your cart, do you want to check out first? (yes/no)yes\n",
      "Thank you for shopping in Dollar Store! Your total is $2. \n"
     ]
    }
   ],
   "source": [
    "class Cart():\n",
    "    '''\n",
    "    Shopping Cart will have below attributes:\n",
    "    - items\n",
    "    - checkout \n",
    "\n",
    "    '''\n",
    "    def __init__(self, ordertotal, items = [], savedlist = []):  #should items is a list or dictionary but dictionary only have (key, value)\n",
    "        self.ordertotal = ordertotal\n",
    "        self.items = items\n",
    "        self.savedlist = savedlist\n",
    "        \n",
    "    def GoCheckOut(self):\n",
    "        if len(self.items) == 0:\n",
    "            print(\"Your cart is empty. Thank you for visiting Dollor Store! \")\n",
    "        else:\n",
    "            print(f\"Thank you for shopping in Dollar Store! Your total is ${len(self.items)}. \")\n",
    "    \n",
    "    def CheckOutBeforeQuit(self):\n",
    "        if len(self.items) > 0:\n",
    "            reminder = input(\"You left something in your cart, do you want to check out first? (yes/no)\")\n",
    "            if reminder == 'yes':\n",
    "                print(f\"Thank you for shopping in Dollar Store! Your total is ${len(self.items)}. \")\n",
    "            else:\n",
    "                print(\"Thank you for visiting Dollor Store! \")\n",
    "            \n",
    "    def ShowCart(self):\n",
    "        if len(self.items) == 0:\n",
    "            print(\"Your cart is empty. \")\n",
    "        else:\n",
    "            print(\"---Shopping Cart---\")\n",
    "            for item in self.items:\n",
    "                print(item)\n",
    "    \n",
    "    def AddItemIntoCart(self):\n",
    "        AddItem = input(\"What would you like to add? \")\n",
    "        self.items.append(AddItem)\n",
    "\n",
    "\n",
    "    def RemoveIteminCart(self):\n",
    "        print(f\"---Shopping Cart----\\n {self.items}\")\n",
    "        deleteItem = input(\"Which item would you like to delete? \")\n",
    "        self.items.remove(deleteItem)\n",
    "    \n",
    "    \n",
    "    def AddNewItemIntoSavedList(self):\n",
    "        addToSavedList = input(\"What would you like to add into the saved list? \")\n",
    "        self.savedlist.append(addToSavedList)\n",
    "        print(f\"{addToSavedList} has been added to the saved list successfully. \")\n",
    "    \n",
    "    def CheckOutSavedList(self):\n",
    "        print(f\"---Saved List---\")\n",
    "        if len(self.savedlist) == 0:\n",
    "            print(\"Your Saved List is empty now. Go add something! \")\n",
    "        else:\n",
    "            for item_savedlist in self.savedlist:\n",
    "                print(item_savedlist)\n",
    "    \n",
    "    def AddToCartfromSaved(self):\n",
    "        addItemfromSavedList = input(\"Which item would you like to add to your cart? \")\n",
    "        self.savedlist.remove(addItemfromSavedList)\n",
    "        self.items.append(addItemfromSavedList)\n",
    "        print(f\"{addItemfromSavedList} is in your cart now! \")\n",
    "\n",
    "MyCart = Cart(2)\n",
    "\n",
    "def run():\n",
    "    while True:\n",
    "        response = input(\"What would you like to add, remove, show or quit?\")\n",
    "\n",
    "        if response == 'quit':\n",
    "            MyCart.ShowCart()\n",
    "            MyCart.CheckOutBeforeQuit()\n",
    "            break\n",
    "\n",
    "        elif response == 'add':\n",
    "            CartOrSavedList = input(\"Which one would you like to add? (cart/ saved list) \")\n",
    "            if CartOrSavedList == 'cart':\n",
    "                MyCart.AddItemIntoCart()\n",
    "            elif CartOrSavedList == 'saved list':\n",
    "                MyCart.AddNewItemIntoSavedList()\n",
    "\n",
    "        elif response == 'remove':\n",
    "            MyCart.RemoveIteminCart()\n",
    "\n",
    "        elif response == 'show':\n",
    "            selection = input(\"What would you like to see? \\n- Items\\n- Saved List\\n- Order Total\\n\")\n",
    "            if selection.lower() == 'saved list':\n",
    "                MyCart.CheckOutSavedList()\n",
    "\n",
    "                addToday = input(\"Would you like to add an item to your cart from the saved list today?(yes/no) \")\n",
    "                if addToday == 'yes':\n",
    "                    MyCart.AddToCartfromSaved()\n",
    "    \n",
    "            elif selection.lower() == 'order total':\n",
    "                MyCart.ShowCart()\n",
    "                MyCart.GoCheckOut()\n",
    "            else:\n",
    "                MyCart.ShowCart()\n",
    "        \n",
    "        else: \n",
    "            print(\"Ther is not a valid ption. Please enter add/ remove/ show/ quit.\")\n",
    "\n",
    "run()\n",
    "    "
   ]
  },
  {
   "cell_type": "markdown",
   "metadata": {},
   "source": [
    "### Exercise 2 - Write a Python class which has two methods get_String and print_String. get_String accept a string from the user and print_String print the string in upper case"
   ]
  },
  {
   "cell_type": "code",
   "execution_count": 12,
   "metadata": {},
   "outputs": [
    {
     "name": "stdout",
     "output_type": "stream",
     "text": [
      "Type something here. hello \n",
      "Ans in uppercase: HELLO \n"
     ]
    }
   ],
   "source": [
    "class String_Typing():\n",
    "\n",
    "    def __init__(self, get_string = \"\"):\n",
    "        self.get_string = get_string\n",
    "\n",
    "    def GetAns(self):\n",
    "        self.get_string = input(\"Type something here. \")\n",
    "    \n",
    "    def PrintAns(self):\n",
    "        print(\"Ans in uppercase:\", self.get_string.upper())\n",
    "\n",
    "\n",
    "string_typing_instance = String_Typing()\n",
    "\n",
    "string_typing_instance.GetAns()\n",
    "\n",
    "string_typing_instance.PrintAns()"
   ]
  },
  {
   "cell_type": "code",
   "execution_count": null,
   "metadata": {},
   "outputs": [],
   "source": []
  }
 ],
 "metadata": {
  "kernelspec": {
   "display_name": "Python 3 (ipykernel)",
   "language": "python",
   "name": "python3"
  },
  "language_info": {
   "codemirror_mode": {
    "name": "ipython",
    "version": 3
   },
   "file_extension": ".py",
   "mimetype": "text/x-python",
   "name": "python",
   "nbconvert_exporter": "python",
   "pygments_lexer": "ipython3",
   "version": "3.11.5"
  }
 },
 "nbformat": 4,
 "nbformat_minor": 2
}
